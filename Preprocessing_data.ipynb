{
 "cells": [
  {
   "cell_type": "markdown",
   "metadata": {},
   "source": [
    "# Facebook Data Crawling\n",
    "After the data is collected, we need to process the data to make it more readable and easier to analyze. We can do some simple visualization to see the data distribution and the relationship between the data. We can also do some simple data cleaning to remove the data that is not needed. In this notebook, we will do some simple data processing on the data we collected from Facebook."
   ]
  },
  {
   "cell_type": "code",
   "execution_count": 1,
   "metadata": {},
   "outputs": [
    {
     "name": "stdout",
     "output_type": "stream",
     "text": [
      "Requirement already satisfied: matplotlib in c:\\users\\admin\\appdata\\local\\programs\\python\\python311\\lib\\site-packages (3.8.0)\n",
      "Requirement already satisfied: pandas in c:\\users\\admin\\appdata\\local\\programs\\python\\python311\\lib\\site-packages (2.1.1)\n",
      "Requirement already satisfied: numpy in c:\\users\\admin\\appdata\\local\\programs\\python\\python311\\lib\\site-packages (1.26.0)\n",
      "Collecting seaborn\n",
      "  Obtaining dependency information for seaborn from https://files.pythonhosted.org/packages/7b/e5/83fcd7e9db036c179e0352bfcd20f81d728197a16f883e7b90307a88e65e/seaborn-0.13.0-py3-none-any.whl.metadata\n",
      "  Downloading seaborn-0.13.0-py3-none-any.whl.metadata (5.3 kB)\n",
      "Collecting wordcloud\n",
      "  Obtaining dependency information for wordcloud from https://files.pythonhosted.org/packages/34/ac/72a4e42e76bf549dfd91791a6b10a9832f046c1d48b5e778be9ec012aa47/wordcloud-1.9.2-cp311-cp311-win_amd64.whl.metadata\n",
      "  Downloading wordcloud-1.9.2-cp311-cp311-win_amd64.whl.metadata (3.4 kB)\n",
      "Requirement already satisfied: contourpy>=1.0.1 in c:\\users\\admin\\appdata\\local\\programs\\python\\python311\\lib\\site-packages (from matplotlib) (1.1.1)\n",
      "Requirement already satisfied: cycler>=0.10 in c:\\users\\admin\\appdata\\local\\programs\\python\\python311\\lib\\site-packages (from matplotlib) (0.12.0)\n",
      "Requirement already satisfied: fonttools>=4.22.0 in c:\\users\\admin\\appdata\\local\\programs\\python\\python311\\lib\\site-packages (from matplotlib) (4.42.1)\n",
      "Requirement already satisfied: kiwisolver>=1.0.1 in c:\\users\\admin\\appdata\\local\\programs\\python\\python311\\lib\\site-packages (from matplotlib) (1.4.5)\n",
      "Requirement already satisfied: packaging>=20.0 in c:\\users\\admin\\appdata\\local\\programs\\python\\python311\\lib\\site-packages (from matplotlib) (23.1)\n",
      "Requirement already satisfied: pillow>=6.2.0 in c:\\users\\admin\\appdata\\local\\programs\\python\\python311\\lib\\site-packages (from matplotlib) (10.0.0)\n",
      "Requirement already satisfied: pyparsing>=2.3.1 in c:\\users\\admin\\appdata\\local\\programs\\python\\python311\\lib\\site-packages (from matplotlib) (3.1.1)\n",
      "Requirement already satisfied: python-dateutil>=2.7 in c:\\users\\admin\\appdata\\local\\programs\\python\\python311\\lib\\site-packages (from matplotlib) (2.8.2)\n",
      "Requirement already satisfied: pytz>=2020.1 in c:\\users\\admin\\appdata\\local\\programs\\python\\python311\\lib\\site-packages (from pandas) (2023.3.post1)\n",
      "Requirement already satisfied: tzdata>=2022.1 in c:\\users\\admin\\appdata\\local\\programs\\python\\python311\\lib\\site-packages (from pandas) (2023.3)\n",
      "Requirement already satisfied: six>=1.5 in c:\\users\\admin\\appdata\\local\\programs\\python\\python311\\lib\\site-packages (from python-dateutil>=2.7->matplotlib) (1.16.0)\n",
      "Downloading seaborn-0.13.0-py3-none-any.whl (294 kB)\n",
      "   ---------------------------------------- 0.0/294.6 kB ? eta -:--:--\n",
      "   -------- ------------------------------- 61.4/294.6 kB 1.7 MB/s eta 0:00:01\n",
      "   ------------------- -------------------- 143.4/294.6 kB 1.7 MB/s eta 0:00:01\n",
      "   ------------------------------------- -- 276.5/294.6 kB 1.7 MB/s eta 0:00:01\n",
      "   ---------------------------------------- 294.6/294.6 kB 1.5 MB/s eta 0:00:00\n",
      "Downloading wordcloud-1.9.2-cp311-cp311-win_amd64.whl (151 kB)\n",
      "   ---------------------------------------- 0.0/151.4 kB ? eta -:--:--\n",
      "   ------------------------ --------------- 92.2/151.4 kB 2.6 MB/s eta 0:00:01\n",
      "   ------------------------------------- -- 143.4/151.4 kB 1.4 MB/s eta 0:00:01\n",
      "   ---------------------------------------- 151.4/151.4 kB 1.3 MB/s eta 0:00:00\n",
      "Installing collected packages: wordcloud, seaborn\n",
      "Successfully installed seaborn-0.13.0 wordcloud-1.9.2\n",
      "Note: you may need to restart the kernel to use updated packages.\n"
     ]
    },
    {
     "name": "stderr",
     "output_type": "stream",
     "text": [
      "\n",
      "[notice] A new release of pip is available: 23.2.1 -> 23.3.1\n",
      "[notice] To update, run: python.exe -m pip install --upgrade pip\n"
     ]
    }
   ],
   "source": [
    "%pip install matplotlib pandas numpy seaborn wordcloud"
   ]
  },
  {
   "cell_type": "code",
   "execution_count": 1,
   "metadata": {},
   "outputs": [],
   "source": [
    "import numpy as np\n",
    "import pandas as pd\n",
    "import matplotlib.pyplot as plt\n",
    "import seaborn as sns"
   ]
  },
  {
   "cell_type": "code",
   "execution_count": 2,
   "metadata": {},
   "outputs": [],
   "source": [
    "raw_df = pd.read_csv('Data/VolleyballWorld.csv')\n"
   ]
  },
  {
   "cell_type": "markdown",
   "metadata": {},
   "source": [
    "# Data PreProcessing"
   ]
  },
  {
   "cell_type": "code",
   "execution_count": 3,
   "metadata": {},
   "outputs": [
    {
     "name": "stdout",
     "output_type": "stream",
     "text": [
      "<class 'pandas.core.frame.DataFrame'>\n",
      "RangeIndex: 90 entries, 0 to 89\n",
      "Data columns (total 52 columns):\n",
      " #   Column                         Non-Null Count  Dtype  \n",
      "---  ------                         --------------  -----  \n",
      " 0   post_id                        90 non-null     int64  \n",
      " 1   text                           90 non-null     object \n",
      " 2   post_text                      90 non-null     object \n",
      " 3   shared_text                    0 non-null      float64\n",
      " 4   original_text                  0 non-null      float64\n",
      " 5   time                           90 non-null     object \n",
      " 6   timestamp                      90 non-null     int64  \n",
      " 7   image                          6 non-null      object \n",
      " 8   image_lowquality               90 non-null     object \n",
      " 9   images                         90 non-null     object \n",
      " 10  images_description             90 non-null     object \n",
      " 11  images_lowquality              90 non-null     object \n",
      " 12  images_lowquality_description  90 non-null     object \n",
      " 13  video                          84 non-null     object \n",
      " 14  video_duration_seconds         0 non-null      float64\n",
      " 15  video_height                   0 non-null      float64\n",
      " 16  video_id                       84 non-null     float64\n",
      " 17  video_quality                  0 non-null      float64\n",
      " 18  video_size_MB                  0 non-null      float64\n",
      " 19  video_thumbnail                84 non-null     object \n",
      " 20  video_watches                  0 non-null      float64\n",
      " 21  video_width                    0 non-null      float64\n",
      " 22  likes                          90 non-null     int64  \n",
      " 23  comments                       90 non-null     int64  \n",
      " 24  shares                         90 non-null     int64  \n",
      " 25  post_url                       90 non-null     object \n",
      " 26  link                           86 non-null     object \n",
      " 27  links                          90 non-null     object \n",
      " 28  user_id                        90 non-null     int64  \n",
      " 29  username                       90 non-null     object \n",
      " 30  user_url                       90 non-null     object \n",
      " 31  is_live                        90 non-null     bool   \n",
      " 32  factcheck                      0 non-null      float64\n",
      " 33  shared_post_id                 0 non-null      float64\n",
      " 34  shared_time                    0 non-null      float64\n",
      " 35  shared_user_id                 0 non-null      float64\n",
      " 36  shared_username                0 non-null      float64\n",
      " 37  shared_post_url                0 non-null      float64\n",
      " 38  available                      90 non-null     bool   \n",
      " 39  comments_full                  90 non-null     object \n",
      " 40  reactors                       90 non-null     object \n",
      " 41  w3_fb_url                      90 non-null     object \n",
      " 42  reactions                      90 non-null     object \n",
      " 43  reaction_count                 90 non-null     int64  \n",
      " 44  with                           70 non-null     object \n",
      " 45  page_id                        90 non-null     int64  \n",
      " 46  sharers                        0 non-null      float64\n",
      " 47  image_id                       6 non-null      float64\n",
      " 48  image_ids                      90 non-null     object \n",
      " 49  was_live                       90 non-null     bool   \n",
      " 50  header                         70 non-null     object \n",
      " 51  fetched_time                   90 non-null     object \n",
      "dtypes: bool(3), float64(17), int64(8), object(24)\n",
      "memory usage: 34.8+ KB\n"
     ]
    }
   ],
   "source": [
    "# Thông tin về dữ liệu thô raw_df\n",
    "raw_df.info()"
   ]
  },
  {
   "cell_type": "markdown",
   "metadata": {},
   "source": [
    "# Handling null data"
   ]
  },
  {
   "cell_type": "code",
   "execution_count": 4,
   "metadata": {},
   "outputs": [
    {
     "name": "stdout",
     "output_type": "stream",
     "text": [
      "<class 'pandas.core.frame.DataFrame'>\n",
      "RangeIndex: 90 entries, 0 to 89\n",
      "Data columns (total 37 columns):\n",
      " #   Column                         Non-Null Count  Dtype  \n",
      "---  ------                         --------------  -----  \n",
      " 0   post_id                        90 non-null     int64  \n",
      " 1   text                           90 non-null     object \n",
      " 2   post_text                      90 non-null     object \n",
      " 3   time                           90 non-null     object \n",
      " 4   timestamp                      90 non-null     int64  \n",
      " 5   image                          6 non-null      object \n",
      " 6   image_lowquality               90 non-null     object \n",
      " 7   images                         90 non-null     object \n",
      " 8   images_description             90 non-null     object \n",
      " 9   images_lowquality              90 non-null     object \n",
      " 10  images_lowquality_description  90 non-null     object \n",
      " 11  video                          84 non-null     object \n",
      " 12  video_id                       84 non-null     float64\n",
      " 13  video_thumbnail                84 non-null     object \n",
      " 14  likes                          90 non-null     int64  \n",
      " 15  comments                       90 non-null     int64  \n",
      " 16  shares                         90 non-null     int64  \n",
      " 17  post_url                       90 non-null     object \n",
      " 18  link                           86 non-null     object \n",
      " 19  links                          90 non-null     object \n",
      " 20  user_id                        90 non-null     int64  \n",
      " 21  username                       90 non-null     object \n",
      " 22  user_url                       90 non-null     object \n",
      " 23  is_live                        90 non-null     bool   \n",
      " 24  available                      90 non-null     bool   \n",
      " 25  comments_full                  90 non-null     object \n",
      " 26  reactors                       90 non-null     object \n",
      " 27  w3_fb_url                      90 non-null     object \n",
      " 28  reactions                      90 non-null     object \n",
      " 29  reaction_count                 90 non-null     int64  \n",
      " 30  with                           70 non-null     object \n",
      " 31  page_id                        90 non-null     int64  \n",
      " 32  image_id                       6 non-null      float64\n",
      " 33  image_ids                      90 non-null     object \n",
      " 34  was_live                       90 non-null     bool   \n",
      " 35  header                         70 non-null     object \n",
      " 36  fetched_time                   90 non-null     object \n",
      "dtypes: bool(3), float64(2), int64(8), object(24)\n",
      "memory usage: 24.3+ KB\n"
     ]
    }
   ],
   "source": [
    "# Loại bỏ những cột dữ liệu mà tất cả các giá trị của các dòng đều là NAN\n",
    "raw_df = raw_df.dropna(axis='columns', how='all')\n",
    "raw_df.info()"
   ]
  },
  {
   "cell_type": "code",
   "execution_count": 5,
   "metadata": {},
   "outputs": [
    {
     "name": "stderr",
     "output_type": "stream",
     "text": [
      "C:\\Users\\ADMIN\\AppData\\Local\\Temp\\ipykernel_16652\\3761832612.py:5: SettingWithCopyWarning: \n",
      "A value is trying to be set on a copy of a slice from a DataFrame\n",
      "\n",
      "See the caveats in the documentation: https://pandas.pydata.org/pandas-docs/stable/user_guide/indexing.html#returning-a-view-versus-a-copy\n",
      "  raw_df['video_id'].loc[raw_df['video_id'] != 0] = 1\n",
      "C:\\Users\\ADMIN\\AppData\\Local\\Temp\\ipykernel_16652\\3761832612.py:6: SettingWithCopyWarning: \n",
      "A value is trying to be set on a copy of a slice from a DataFrame\n",
      "\n",
      "See the caveats in the documentation: https://pandas.pydata.org/pandas-docs/stable/user_guide/indexing.html#returning-a-view-versus-a-copy\n",
      "  raw_df['image_id'].loc[raw_df['image_id'] != 0] = 1\n"
     ]
    }
   ],
   "source": [
    "# Chuan hoa video_id vaf image_id , with 1 la co, 0 la khong \n",
    "raw_df['video_id'].fillna(0, inplace=True)\n",
    "raw_df['image_id'].fillna(0, inplace=True)\n",
    "raw_df['with'].fillna(0, inplace=True)\n",
    "raw_df['video_id'].loc[raw_df['video_id'] != 0] = 1\n",
    "raw_df['image_id'].loc[raw_df['image_id'] != 0] = 1\n",
    "raw_df['with'].loc[raw_df['with'] != 0] = 1"
   ]
  },
  {
   "cell_type": "code",
   "execution_count": 6,
   "metadata": {},
   "outputs": [
    {
     "name": "stdout",
     "output_type": "stream",
     "text": [
      "<class 'pandas.core.frame.DataFrame'>\n",
      "RangeIndex: 90 entries, 0 to 89\n",
      "Data columns (total 35 columns):\n",
      " #   Column                         Non-Null Count  Dtype \n",
      "---  ------                         --------------  ----- \n",
      " 0   post_id                        90 non-null     object\n",
      " 1   text                           90 non-null     object\n",
      " 2   time                           90 non-null     object\n",
      " 3   timestamp                      90 non-null     object\n",
      " 4   image                          6 non-null      object\n",
      " 5   image_lowquality               90 non-null     object\n",
      " 6   images                         90 non-null     object\n",
      " 7   images_description             90 non-null     object\n",
      " 8   images_lowquality              90 non-null     object\n",
      " 9   images_lowquality_description  90 non-null     object\n",
      " 10  video                          84 non-null     object\n",
      " 11  video_id                       90 non-null     object\n",
      " 12  video_thumbnail                84 non-null     object\n",
      " 13  likes                          90 non-null     object\n",
      " 14  comments                       90 non-null     object\n",
      " 15  shares                         90 non-null     object\n",
      " 16  post_url                       90 non-null     object\n",
      " 17  link                           86 non-null     object\n",
      " 18  links                          90 non-null     object\n",
      " 19  user_id                        90 non-null     object\n",
      " 20  username                       90 non-null     object\n",
      " 21  user_url                       90 non-null     object\n",
      " 22  is_live                        90 non-null     object\n",
      " 23  available                      90 non-null     object\n",
      " 24  comments_full                  90 non-null     object\n",
      " 25  reactors                       90 non-null     object\n",
      " 26  w3_fb_url                      90 non-null     object\n",
      " 27  reactions                      90 non-null     object\n",
      " 28  reaction_count                 90 non-null     object\n",
      " 29  with                           90 non-null     object\n",
      " 30  page_id                        90 non-null     object\n",
      " 31  image_id                       90 non-null     object\n",
      " 32  image_ids                      90 non-null     object\n",
      " 33  header                         70 non-null     object\n",
      " 34  fetched_time                   90 non-null     object\n",
      "dtypes: object(35)\n",
      "memory usage: 24.7+ KB\n"
     ]
    }
   ],
   "source": [
    "#Loại bỏ cột có cùng giá trị các dòng ()\n",
    "raw_df = raw_df.T.drop_duplicates().T\n",
    "raw_df.info()"
   ]
  },
  {
   "cell_type": "markdown",
   "metadata": {},
   "source": [
    "# Xoá các cột không phân tích"
   ]
  },
  {
   "cell_type": "code",
   "execution_count": 7,
   "metadata": {},
   "outputs": [],
   "source": [
    "pd.options.display.max_colwidth = 100"
   ]
  },
  {
   "cell_type": "code",
   "execution_count": 7,
   "metadata": {},
   "outputs": [],
   "source": [
    "raw_df.drop(columns=['images','images_lowquality','image_lowquality','images_description','images_lowquality_description' ], inplace=True)\n",
    "raw_df.drop(columns = ['timestamp', 'image', 'video', 'video_thumbnail'], inplace = True)\n",
    "raw_df.drop(columns = ['link', 'links', 'user_id', 'username', 'user_url', 'is_live', 'available'], inplace = True)\n",
    "raw_df.drop(columns = ['likes', 'w3_fb_url', 'page_id', 'image_ids', 'image_id','fetched_time', 'post_url'], inplace = True)"
   ]
  },
  {
   "cell_type": "code",
   "execution_count": 8,
   "metadata": {},
   "outputs": [
    {
     "name": "stdout",
     "output_type": "stream",
     "text": [
      "<class 'pandas.core.frame.DataFrame'>\n",
      "RangeIndex: 90 entries, 0 to 89\n",
      "Data columns (total 12 columns):\n",
      " #   Column          Non-Null Count  Dtype \n",
      "---  ------          --------------  ----- \n",
      " 0   post_id         90 non-null     object\n",
      " 1   text            90 non-null     object\n",
      " 2   time            90 non-null     object\n",
      " 3   video_id        90 non-null     object\n",
      " 4   comments        90 non-null     object\n",
      " 5   shares          90 non-null     object\n",
      " 6   comments_full   90 non-null     object\n",
      " 7   reactors        90 non-null     object\n",
      " 8   reactions       90 non-null     object\n",
      " 9   reaction_count  90 non-null     object\n",
      " 10  with            90 non-null     object\n",
      " 11  header          70 non-null     object\n",
      "dtypes: object(12)\n",
      "memory usage: 8.6+ KB\n"
     ]
    }
   ],
   "source": [
    "raw_df.info()"
   ]
  },
  {
   "cell_type": "code",
   "execution_count": 9,
   "metadata": {},
   "outputs": [
    {
     "name": "stdout",
     "output_type": "stream",
     "text": [
      "<class 'pandas.core.frame.DataFrame'>\n",
      "RangeIndex: 90 entries, 0 to 89\n",
      "Data columns (total 12 columns):\n",
      " #   Column          Non-Null Count  Dtype \n",
      "---  ------          --------------  ----- \n",
      " 0   post_id         90 non-null     object\n",
      " 1   text            90 non-null     object\n",
      " 2   time            90 non-null     object\n",
      " 3   video_id        90 non-null     object\n",
      " 4   comments        90 non-null     object\n",
      " 5   shares          90 non-null     object\n",
      " 6   comments_full   90 non-null     object\n",
      " 7   reactors        90 non-null     object\n",
      " 8   reactions       90 non-null     object\n",
      " 9   reaction_count  90 non-null     object\n",
      " 10  with            90 non-null     object\n",
      " 11  header          90 non-null     object\n",
      "dtypes: object(12)\n",
      "memory usage: 8.6+ KB\n"
     ]
    }
   ],
   "source": [
    "# fill nan header\n",
    "raw_df.fillna({'header': \"No header\"}, inplace=True)\n",
    "raw_df.info()"
   ]
  },
  {
   "cell_type": "code",
   "execution_count": 10,
   "metadata": {},
   "outputs": [
    {
     "name": "stdout",
     "output_type": "stream",
     "text": [
      "<class 'pandas.core.frame.DataFrame'>\n",
      "RangeIndex: 90 entries, 0 to 89\n",
      "Data columns (total 14 columns):\n",
      " #   Column          Non-Null Count  Dtype \n",
      "---  ------          --------------  ----- \n",
      " 0   post_id         90 non-null     object\n",
      " 1   text            90 non-null     object\n",
      " 2   time            90 non-null     object\n",
      " 3   video_id        90 non-null     object\n",
      " 4   comments        90 non-null     object\n",
      " 5   shares          90 non-null     object\n",
      " 6   comments_full   90 non-null     object\n",
      " 7   reactors        90 non-null     object\n",
      " 8   reactions       90 non-null     object\n",
      " 9   reaction_count  90 non-null     object\n",
      " 10  with            90 non-null     object\n",
      " 11  header          90 non-null     object\n",
      " 12  date            90 non-null     object\n",
      " 13  exact_time      90 non-null     object\n",
      "dtypes: object(14)\n",
      "memory usage: 10.0+ KB\n"
     ]
    }
   ],
   "source": [
    "# Tách dữ liệu time ra thành ngày/\n",
    "raw_df['date']= pd.to_datetime(raw_df['time']).dt.strftime('%Y-%m-%d')\n",
    "raw_df['exact_time']= pd.to_datetime(raw_df['time']).dt.strftime('%H:%M:%S')\n",
    "#raw_df.drop(columns= ['time'], inplace=True)\n",
    "raw_df.info()"
   ]
  },
  {
   "cell_type": "code",
   "execution_count": 11,
   "metadata": {},
   "outputs": [],
   "source": [
    "ss = raw_df['reactions']"
   ]
  },
  {
   "cell_type": "code",
   "execution_count": 12,
   "metadata": {},
   "outputs": [],
   "source": [
    "df = pd.DataFrame({\n",
    "    'like': [],\n",
    "    'love': [],\n",
    "    'haha': [],\n",
    "    'care': [],\n",
    "    'wow': [],\n",
    "    'sad': [],\n",
    "    'angry': []\n",
    "})"
   ]
  },
  {
   "cell_type": "code",
   "execution_count": 13,
   "metadata": {},
   "outputs": [],
   "source": [
    "#like, live , haha, care, wow, sad, angry\n",
    "for s in ss:\n",
    "    s = s.replace(\"{\", \"\")\n",
    "    s = s.replace(\"}\", \"\")\n",
    "    new_row = np.zeros(7, dtype=np.int32)\n",
    "    list = s.split(\",\")\n",
    "    for l in list:\n",
    "        sub_list = l.split(\":\")\n",
    "        sub_list[0] = sub_list[0].replace(\"'\", \"\").strip()\n",
    "        if (sub_list[0][0:3] == \"lik\"):\n",
    "            new_row[0] = int(sub_list[1])\n",
    "        elif (sub_list[0][0:3] == \"lov\"):\n",
    "            new_row[1] = int(sub_list[1])\n",
    "        elif (sub_list[0][0:3] == \"hah\"):\n",
    "            new_row[2] = int(sub_list[1])\n",
    "        elif (sub_list[0][0:3] == \"car\"):\n",
    "            new_row[3] = int(sub_list[1])\n",
    "        elif (sub_list[0][0:3] == \"wow\"):\n",
    "            new_row[4] = int(sub_list[1])\n",
    "        elif (sub_list[0][0:3] == \"sad\"):\n",
    "            new_row[5] = int(sub_list[1])\n",
    "        elif (sub_list[0][0:3] == \"ang\"):\n",
    "            new_row[6] = int(sub_list[1])\n",
    "    df.loc[len(df.index)] = new_row     \n",
    "    \n",
    "    "
   ]
  },
  {
   "cell_type": "code",
   "execution_count": 14,
   "metadata": {},
   "outputs": [
    {
     "data": {
      "text/html": [
       "<div>\n",
       "<style scoped>\n",
       "    .dataframe tbody tr th:only-of-type {\n",
       "        vertical-align: middle;\n",
       "    }\n",
       "\n",
       "    .dataframe tbody tr th {\n",
       "        vertical-align: top;\n",
       "    }\n",
       "\n",
       "    .dataframe thead th {\n",
       "        text-align: right;\n",
       "    }\n",
       "</style>\n",
       "<table border=\"1\" class=\"dataframe\">\n",
       "  <thead>\n",
       "    <tr style=\"text-align: right;\">\n",
       "      <th></th>\n",
       "      <th>like</th>\n",
       "      <th>love</th>\n",
       "      <th>haha</th>\n",
       "      <th>care</th>\n",
       "      <th>wow</th>\n",
       "      <th>sad</th>\n",
       "      <th>angry</th>\n",
       "    </tr>\n",
       "  </thead>\n",
       "  <tbody>\n",
       "    <tr>\n",
       "      <th>0</th>\n",
       "      <td>48</td>\n",
       "      <td>14</td>\n",
       "      <td>1</td>\n",
       "      <td>0</td>\n",
       "      <td>1</td>\n",
       "      <td>0</td>\n",
       "      <td>0</td>\n",
       "    </tr>\n",
       "    <tr>\n",
       "      <th>1</th>\n",
       "      <td>169</td>\n",
       "      <td>50</td>\n",
       "      <td>0</td>\n",
       "      <td>1</td>\n",
       "      <td>0</td>\n",
       "      <td>0</td>\n",
       "      <td>0</td>\n",
       "    </tr>\n",
       "    <tr>\n",
       "      <th>2</th>\n",
       "      <td>290</td>\n",
       "      <td>64</td>\n",
       "      <td>0</td>\n",
       "      <td>1</td>\n",
       "      <td>0</td>\n",
       "      <td>0</td>\n",
       "      <td>0</td>\n",
       "    </tr>\n",
       "    <tr>\n",
       "      <th>3</th>\n",
       "      <td>1499</td>\n",
       "      <td>1169</td>\n",
       "      <td>1</td>\n",
       "      <td>20</td>\n",
       "      <td>5</td>\n",
       "      <td>0</td>\n",
       "      <td>0</td>\n",
       "    </tr>\n",
       "    <tr>\n",
       "      <th>4</th>\n",
       "      <td>267</td>\n",
       "      <td>63</td>\n",
       "      <td>0</td>\n",
       "      <td>3</td>\n",
       "      <td>1</td>\n",
       "      <td>0</td>\n",
       "      <td>0</td>\n",
       "    </tr>\n",
       "    <tr>\n",
       "      <th>...</th>\n",
       "      <td>...</td>\n",
       "      <td>...</td>\n",
       "      <td>...</td>\n",
       "      <td>...</td>\n",
       "      <td>...</td>\n",
       "      <td>...</td>\n",
       "      <td>...</td>\n",
       "    </tr>\n",
       "    <tr>\n",
       "      <th>85</th>\n",
       "      <td>1338</td>\n",
       "      <td>210</td>\n",
       "      <td>1</td>\n",
       "      <td>5</td>\n",
       "      <td>6</td>\n",
       "      <td>0</td>\n",
       "      <td>1</td>\n",
       "    </tr>\n",
       "    <tr>\n",
       "      <th>86</th>\n",
       "      <td>3784</td>\n",
       "      <td>87</td>\n",
       "      <td>3547</td>\n",
       "      <td>23</td>\n",
       "      <td>38</td>\n",
       "      <td>17</td>\n",
       "      <td>0</td>\n",
       "    </tr>\n",
       "    <tr>\n",
       "      <th>87</th>\n",
       "      <td>2130</td>\n",
       "      <td>894</td>\n",
       "      <td>2</td>\n",
       "      <td>14</td>\n",
       "      <td>10</td>\n",
       "      <td>0</td>\n",
       "      <td>0</td>\n",
       "    </tr>\n",
       "    <tr>\n",
       "      <th>88</th>\n",
       "      <td>1138</td>\n",
       "      <td>140</td>\n",
       "      <td>0</td>\n",
       "      <td>8</td>\n",
       "      <td>3</td>\n",
       "      <td>0</td>\n",
       "      <td>0</td>\n",
       "    </tr>\n",
       "    <tr>\n",
       "      <th>89</th>\n",
       "      <td>592</td>\n",
       "      <td>111</td>\n",
       "      <td>0</td>\n",
       "      <td>2</td>\n",
       "      <td>2</td>\n",
       "      <td>0</td>\n",
       "      <td>0</td>\n",
       "    </tr>\n",
       "  </tbody>\n",
       "</table>\n",
       "<p>90 rows × 7 columns</p>\n",
       "</div>"
      ],
      "text/plain": [
       "    like  love  haha  care  wow  sad  angry\n",
       "0     48    14     1     0    1    0      0\n",
       "1    169    50     0     1    0    0      0\n",
       "2    290    64     0     1    0    0      0\n",
       "3   1499  1169     1    20    5    0      0\n",
       "4    267    63     0     3    1    0      0\n",
       "..   ...   ...   ...   ...  ...  ...    ...\n",
       "85  1338   210     1     5    6    0      1\n",
       "86  3784    87  3547    23   38   17      0\n",
       "87  2130   894     2    14   10    0      0\n",
       "88  1138   140     0     8    3    0      0\n",
       "89   592   111     0     2    2    0      0\n",
       "\n",
       "[90 rows x 7 columns]"
      ]
     },
     "execution_count": 14,
     "metadata": {},
     "output_type": "execute_result"
    }
   ],
   "source": [
    "df"
   ]
  },
  {
   "cell_type": "code",
   "execution_count": 15,
   "metadata": {},
   "outputs": [
    {
     "name": "stdout",
     "output_type": "stream",
     "text": [
      "<class 'pandas.core.frame.DataFrame'>\n",
      "RangeIndex: 90 entries, 0 to 89\n",
      "Data columns (total 20 columns):\n",
      " #   Column          Non-Null Count  Dtype \n",
      "---  ------          --------------  ----- \n",
      " 0   post_id         90 non-null     object\n",
      " 1   text            90 non-null     object\n",
      " 2   time            90 non-null     object\n",
      " 3   video_id        90 non-null     object\n",
      " 4   comments        90 non-null     object\n",
      " 5   shares          90 non-null     object\n",
      " 6   comments_full   90 non-null     object\n",
      " 7   reactors        90 non-null     object\n",
      " 8   reaction_count  90 non-null     object\n",
      " 9   with            90 non-null     object\n",
      " 10  header          90 non-null     object\n",
      " 11  date            90 non-null     object\n",
      " 12  exact_time      90 non-null     object\n",
      " 13  like            90 non-null     int32 \n",
      " 14  love            90 non-null     int32 \n",
      " 15  haha            90 non-null     int32 \n",
      " 16  care            90 non-null     int32 \n",
      " 17  wow             90 non-null     int32 \n",
      " 18  sad             90 non-null     int32 \n",
      " 19  angry           90 non-null     int32 \n",
      "dtypes: int32(7), object(13)\n",
      "memory usage: 11.7+ KB\n"
     ]
    }
   ],
   "source": [
    "clean_df = raw_df.drop(columns=['reactions']).join(df)\n",
    "clean_df.info()"
   ]
  },
  {
   "cell_type": "code",
   "execution_count": 18,
   "metadata": {},
   "outputs": [],
   "source": [
    "#save to csv file\n",
    "clean_df.to_csv(\"Data/clean_data.csv\", index=False)"
   ]
  }
 ],
 "metadata": {
  "kernelspec": {
   "display_name": "Python 3",
   "language": "python",
   "name": "python3"
  },
  "language_info": {
   "codemirror_mode": {
    "name": "ipython",
    "version": 3
   },
   "file_extension": ".py",
   "mimetype": "text/x-python",
   "name": "python",
   "nbconvert_exporter": "python",
   "pygments_lexer": "ipython3",
   "version": "3.11.4"
  }
 },
 "nbformat": 4,
 "nbformat_minor": 2
}
